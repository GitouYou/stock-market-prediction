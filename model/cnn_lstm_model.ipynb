{
 "cells": [
  {
   "cell_type": "code",
   "execution_count": 24,
   "metadata": {
    "pycharm": {
     "is_executing": false
    }
   },
   "outputs": [
    {
     "data": {
      "text/plain": [
       "'2.0.0'"
      ]
     },
     "execution_count": 24,
     "metadata": {},
     "output_type": "execute_result"
    }
   ],
   "source": [
    "FILE_NAME = 'magazine_dataset.csv'\n",
    "\n",
    "import pandas as pd\n",
    "import matplotlib.pyplot as plt\n",
    "import tensorflow as tf\n",
    "import numpy as np\n",
    "\n",
    "tf.__version__"
   ]
  },
  {
   "cell_type": "code",
   "execution_count": 25,
   "metadata": {
    "pycharm": {
     "is_executing": false,
     "name": "#%%\n"
    }
   },
   "outputs": [],
   "source": [
    "def plot_series(time, series, form='-', start=0, end=None):\n",
    "    plt.figure(figsize=(10, 6))\n",
    "    plt.plot(time[start:end], series[start:end], form)\n",
    "    plt.xlabel(\"Minuto\")\n",
    "    plt.ylabel(\"Ação\")\n",
    "    plt.grid(True)"
   ]
  },
  {
   "cell_type": "code",
   "execution_count": 26,
   "metadata": {
    "pycharm": {
     "is_executing": false,
     "name": "#%%\n"
    }
   },
   "outputs": [
    {
     "data": {
      "text/html": [
       "<div>\n",
       "<style scoped>\n",
       "    .dataframe tbody tr th:only-of-type {\n",
       "        vertical-align: middle;\n",
       "    }\n",
       "\n",
       "    .dataframe tbody tr th {\n",
       "        vertical-align: top;\n",
       "    }\n",
       "\n",
       "    .dataframe thead th {\n",
       "        text-align: right;\n",
       "    }\n",
       "</style>\n",
       "<table border=\"1\" class=\"dataframe\">\n",
       "  <thead>\n",
       "    <tr style=\"text-align: right;\">\n",
       "      <th></th>\n",
       "      <th>open</th>\n",
       "      <th>high</th>\n",
       "      <th>low</th>\n",
       "      <th>y</th>\n",
       "      <th>dollar_close</th>\n",
       "      <th>volume</th>\n",
       "      <th>sentiment_polarity</th>\n",
       "      <th>close</th>\n",
       "    </tr>\n",
       "  </thead>\n",
       "  <tbody>\n",
       "    <tr>\n",
       "      <td>0</td>\n",
       "      <td>33.0013</td>\n",
       "      <td>33.0316</td>\n",
       "      <td>32.7213</td>\n",
       "      <td>32.8513</td>\n",
       "      <td>4.1007</td>\n",
       "      <td>0</td>\n",
       "      <td>0.06801</td>\n",
       "      <td>32.8513</td>\n",
       "    </tr>\n",
       "    <tr>\n",
       "      <td>1</td>\n",
       "      <td>32.8810</td>\n",
       "      <td>33.1225</td>\n",
       "      <td>32.8522</td>\n",
       "      <td>33.0411</td>\n",
       "      <td>4.0994</td>\n",
       "      <td>301337</td>\n",
       "      <td>0.06801</td>\n",
       "      <td>33.0411</td>\n",
       "    </tr>\n",
       "    <tr>\n",
       "      <td>2</td>\n",
       "      <td>33.0200</td>\n",
       "      <td>33.3100</td>\n",
       "      <td>33.0200</td>\n",
       "      <td>33.1300</td>\n",
       "      <td>4.0979</td>\n",
       "      <td>177100</td>\n",
       "      <td>0.06801</td>\n",
       "      <td>33.1300</td>\n",
       "    </tr>\n",
       "    <tr>\n",
       "      <td>3</td>\n",
       "      <td>33.1506</td>\n",
       "      <td>33.1761</td>\n",
       "      <td>32.9759</td>\n",
       "      <td>33.0006</td>\n",
       "      <td>4.0971</td>\n",
       "      <td>179428</td>\n",
       "      <td>0.06801</td>\n",
       "      <td>33.0006</td>\n",
       "    </tr>\n",
       "    <tr>\n",
       "      <td>4</td>\n",
       "      <td>33.0012</td>\n",
       "      <td>33.1010</td>\n",
       "      <td>32.9008</td>\n",
       "      <td>32.9112</td>\n",
       "      <td>4.0974</td>\n",
       "      <td>204443</td>\n",
       "      <td>0.06801</td>\n",
       "      <td>32.9112</td>\n",
       "    </tr>\n",
       "  </tbody>\n",
       "</table>\n",
       "</div>"
      ],
      "text/plain": [
       "      open     high      low        y  dollar_close  volume  \\\n",
       "0  33.0013  33.0316  32.7213  32.8513        4.1007       0   \n",
       "1  32.8810  33.1225  32.8522  33.0411        4.0994  301337   \n",
       "2  33.0200  33.3100  33.0200  33.1300        4.0979  177100   \n",
       "3  33.1506  33.1761  32.9759  33.0006        4.0971  179428   \n",
       "4  33.0012  33.1010  32.9008  32.9112        4.0974  204443   \n",
       "\n",
       "   sentiment_polarity    close  \n",
       "0             0.06801  32.8513  \n",
       "1             0.06801  33.0411  \n",
       "2             0.06801  33.1300  \n",
       "3             0.06801  33.0006  \n",
       "4             0.06801  32.9112  "
      ]
     },
     "execution_count": 26,
     "metadata": {},
     "output_type": "execute_result"
    }
   ],
   "source": [
    "data = pd.read_csv(FILE_NAME, sep=',')\n",
    "data = data[['open', 'high', 'low', 'close', 'dollar_close', 'volume', 'sentiment_polarity', 'close']]\n",
    "data.columns.values[3] = \"y\"\n",
    "data.head()"
   ]
  },
  {
   "cell_type": "code",
   "execution_count": 27,
   "metadata": {},
   "outputs": [],
   "source": [
    "dataset = data['y']\n",
    "dataset.loc[dataset.shape[0]]= 0.0\n",
    "dataset = dataset.iloc[1:]\n",
    "data.iloc[:, -1] = dataset.values\n",
    "dataset = data[:-1].values"
   ]
  },
  {
   "cell_type": "code",
   "execution_count": 28,
   "metadata": {},
   "outputs": [
    {
     "data": {
      "image/png": "[encoded data removed]",
      "text/plain": [
       "<Figure size 720x432 with 1 Axes>"
      ]
     },
     "metadata": {
      "needs_background": "light"
     },
     "output_type": "display_data"
    }
   ],
   "source": [
    "plot_series(np.arange(dataset.shape[0]), dataset[:, -1])"
   ]
  },
  {
   "cell_type": "code",
   "execution_count": 116,
   "metadata": {
    "pycharm": {
     "is_executing": false,
     "name": "#%%\n"
    }
   },
   "outputs": [],
   "source": [
    "def windowed_dataset(series_x, series_y, batch_size, shuffle_buffer):\n",
    "    ds = tf.data.Dataset.from_tensor_slices((series_x, series_y))\n",
    "    ds = ds.shuffle(shuffle_buffer)\n",
    "\n",
    "    return ds.batch(batch_size).prefetch(1).repeat()\n",
    "\n",
    "train_set = windowed_dataset(dataset[:, 0:-1][:, :, np.newaxis], dataset[:, -1], 3, 1000)"
   ]
  },
  {
   "cell_type": "code",
   "execution_count": 115,
   "metadata": {},
   "outputs": [
    {
     "name": "stdout",
     "output_type": "stream",
     "text": [
      "[[[3.21300000e+01]\n",
      "  [3.21400000e+01]\n",
      "  [3.20700000e+01]\n",
      "  [3.20800000e+01]\n",
      "  [4.09420000e+00]\n",
      "  [3.21000000e+04]\n",
      "  [6.80098485e-02]]\n",
      "\n",
      " [[3.39500000e+01]\n",
      "  [3.39600000e+01]\n",
      "  [3.39000000e+01]\n",
      "  [3.39100000e+01]\n",
      "  [4.06190000e+00]\n",
      "  [1.56000000e+04]\n",
      "  [1.16424108e-01]]\n",
      "\n",
      " [[3.45100000e+01]\n",
      "  [3.45100000e+01]\n",
      "  [3.44700000e+01]\n",
      "  [3.44800000e+01]\n",
      "  [4.06210000e+00]\n",
      "  [1.67000000e+04]\n",
      "  [1.72877896e-01]]] [32.04 33.92 34.49]\n"
     ]
    }
   ],
   "source": []
  },
  {
   "cell_type": "code",
   "execution_count": null,
   "metadata": {},
   "outputs": [],
   "source": []
  }
 ],
 "metadata": {
  "kernelspec": {
   "display_name": "Python 3",
   "language": "python",
   "name": "python3"
  },
  "language_info": {
   "codemirror_mode": {
    "name": "ipython",
    "version": 3
   },
   "file_extension": ".py",
   "mimetype": "text/x-python",
   "name": "python",
   "nbconvert_exporter": "python",
   "pygments_lexer": "ipython3",
   "version": "3.7.4"
  },
  "pycharm": {
   "stem_cell": {
    "cell_type": "raw",
    "metadata": {
     "collapsed": false
    },
    "source": []
   }
  }
 },
 "nbformat": 4,
 "nbformat_minor": 1
}
