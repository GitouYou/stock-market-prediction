{
 "cells": [
  {
   "cell_type": "code",
   "execution_count": 242,
   "metadata": {
    "pycharm": {
     "is_executing": false
    }
   },
   "outputs": [
    {
     "data": {
      "text/plain": [
       "'2.0.0'"
      ]
     },
     "execution_count": 242,
     "metadata": {},
     "output_type": "execute_result"
    }
   ],
   "source": [
    "FILE_NAME = 'magazine_dataset.csv'\n",
    "\n",
    "import pandas as pd\n",
    "import matplotlib.pyplot as plt\n",
    "import tensorflow as tf\n",
    "import numpy as np\n",
    "\n",
    "from sklearn.preprocessing import MinMaxScaler\n",
    "\n",
    "tf.__version__"
   ]
  },
  {
   "cell_type": "code",
   "execution_count": 243,
   "metadata": {
    "pycharm": {
     "is_executing": false,
     "name": "#%%\n"
    }
   },
   "outputs": [],
   "source": [
    "def plot_series(time, series, lab, form='-', start=0, end=None):\n",
    "    plt.plot(time[start:end], series[start:end], form, label=lab)\n",
    "    plt.xlabel(\"Minuto\")\n",
    "    plt.ylabel(\"Preço\")\n",
    "    plt.grid(True)\n",
    "    \n",
    "def split_dataset(dataset):\n",
    "    size = dataset.shape[0]\n",
    "    train_size = size * 80 // 100\n",
    "    test_size = (size - train_size) // 2\n",
    "    \n",
    "    return dataset[0:train_size, :], dataset[train_size:(train_size + test_size), :], dataset[(train_size + test_size):size, :]\n",
    "\n",
    "def windowed_dataset(series_x, series_y, batch_size, shuffle_buffer):\n",
    "    ds = tf.data.Dataset.from_tensor_slices((series_x, series_y))\n",
    "    ds = ds.shuffle(shuffle_buffer)\n",
    "\n",
    "    return ds.batch(batch_size).prefetch(1).repeat()"
   ]
  },
  {
   "cell_type": "code",
   "execution_count": 244,
   "metadata": {
    "pycharm": {
     "is_executing": false,
     "name": "#%%\n"
    }
   },
   "outputs": [
    {
     "data": {
      "text/html": [
       "<div>\n",
       "<style scoped>\n",
       "    .dataframe tbody tr th:only-of-type {\n",
       "        vertical-align: middle;\n",
       "    }\n",
       "\n",
       "    .dataframe tbody tr th {\n",
       "        vertical-align: top;\n",
       "    }\n",
       "\n",
       "    .dataframe thead th {\n",
       "        text-align: right;\n",
       "    }\n",
       "</style>\n",
       "<table border=\"1\" class=\"dataframe\">\n",
       "  <thead>\n",
       "    <tr style=\"text-align: right;\">\n",
       "      <th></th>\n",
       "      <th>open</th>\n",
       "      <th>high</th>\n",
       "      <th>low</th>\n",
       "      <th>close</th>\n",
       "      <th>dollar_close</th>\n",
       "      <th>volume</th>\n",
       "      <th>sentiment_polarity</th>\n",
       "      <th>y</th>\n",
       "    </tr>\n",
       "  </thead>\n",
       "  <tbody>\n",
       "    <tr>\n",
       "      <td>0</td>\n",
       "      <td>33.0013</td>\n",
       "      <td>33.0316</td>\n",
       "      <td>32.7213</td>\n",
       "      <td>32.8513</td>\n",
       "      <td>4.1007</td>\n",
       "      <td>0</td>\n",
       "      <td>0.06801</td>\n",
       "      <td>32.8513</td>\n",
       "    </tr>\n",
       "    <tr>\n",
       "      <td>1</td>\n",
       "      <td>32.8810</td>\n",
       "      <td>33.1225</td>\n",
       "      <td>32.8522</td>\n",
       "      <td>33.0411</td>\n",
       "      <td>4.0994</td>\n",
       "      <td>301337</td>\n",
       "      <td>0.06801</td>\n",
       "      <td>33.0411</td>\n",
       "    </tr>\n",
       "    <tr>\n",
       "      <td>2</td>\n",
       "      <td>33.0200</td>\n",
       "      <td>33.3100</td>\n",
       "      <td>33.0200</td>\n",
       "      <td>33.1300</td>\n",
       "      <td>4.0979</td>\n",
       "      <td>177100</td>\n",
       "      <td>0.06801</td>\n",
       "      <td>33.1300</td>\n",
       "    </tr>\n",
       "    <tr>\n",
       "      <td>3</td>\n",
       "      <td>33.1506</td>\n",
       "      <td>33.1761</td>\n",
       "      <td>32.9759</td>\n",
       "      <td>33.0006</td>\n",
       "      <td>4.0971</td>\n",
       "      <td>179428</td>\n",
       "      <td>0.06801</td>\n",
       "      <td>33.0006</td>\n",
       "    </tr>\n",
       "    <tr>\n",
       "      <td>4</td>\n",
       "      <td>33.0012</td>\n",
       "      <td>33.1010</td>\n",
       "      <td>32.9008</td>\n",
       "      <td>32.9112</td>\n",
       "      <td>4.0974</td>\n",
       "      <td>204443</td>\n",
       "      <td>0.06801</td>\n",
       "      <td>32.9112</td>\n",
       "    </tr>\n",
       "  </tbody>\n",
       "</table>\n",
       "</div>"
      ],
      "text/plain": [
       "      open     high      low    close  dollar_close  volume  \\\n",
       "0  33.0013  33.0316  32.7213  32.8513        4.1007       0   \n",
       "1  32.8810  33.1225  32.8522  33.0411        4.0994  301337   \n",
       "2  33.0200  33.3100  33.0200  33.1300        4.0979  177100   \n",
       "3  33.1506  33.1761  32.9759  33.0006        4.0971  179428   \n",
       "4  33.0012  33.1010  32.9008  32.9112        4.0974  204443   \n",
       "\n",
       "   sentiment_polarity        y  \n",
       "0             0.06801  32.8513  \n",
       "1             0.06801  33.0411  \n",
       "2             0.06801  33.1300  \n",
       "3             0.06801  33.0006  \n",
       "4             0.06801  32.9112  "
      ]
     },
     "execution_count": 244,
     "metadata": {},
     "output_type": "execute_result"
    }
   ],
   "source": [
    "data = pd.read_csv(FILE_NAME, sep=',')\n",
    "data = data[['open', 'high', 'low', 'close', 'dollar_close', 'volume', 'sentiment_polarity', 'close']]\n",
    "data.columns.values[7] = \"y\"\n",
    "data.head()"
   ]
  },
  {
   "cell_type": "code",
   "execution_count": 245,
   "metadata": {},
   "outputs": [
    {
     "data": {
      "text/html": [
       "<div>\n",
       "<style scoped>\n",
       "    .dataframe tbody tr th:only-of-type {\n",
       "        vertical-align: middle;\n",
       "    }\n",
       "\n",
       "    .dataframe tbody tr th {\n",
       "        vertical-align: top;\n",
       "    }\n",
       "\n",
       "    .dataframe thead th {\n",
       "        text-align: right;\n",
       "    }\n",
       "</style>\n",
       "<table border=\"1\" class=\"dataframe\">\n",
       "  <thead>\n",
       "    <tr style=\"text-align: right;\">\n",
       "      <th></th>\n",
       "      <th>open</th>\n",
       "      <th>high</th>\n",
       "      <th>low</th>\n",
       "      <th>close</th>\n",
       "      <th>dollar_close</th>\n",
       "      <th>volume</th>\n",
       "      <th>sentiment_polarity</th>\n",
       "      <th>y</th>\n",
       "    </tr>\n",
       "  </thead>\n",
       "  <tbody>\n",
       "    <tr>\n",
       "      <td>0</td>\n",
       "      <td>33.0013</td>\n",
       "      <td>33.0316</td>\n",
       "      <td>32.7213</td>\n",
       "      <td>32.8513</td>\n",
       "      <td>4.1007</td>\n",
       "      <td>0</td>\n",
       "      <td>0.06801</td>\n",
       "      <td>33.0411</td>\n",
       "    </tr>\n",
       "    <tr>\n",
       "      <td>1</td>\n",
       "      <td>32.8810</td>\n",
       "      <td>33.1225</td>\n",
       "      <td>32.8522</td>\n",
       "      <td>33.0411</td>\n",
       "      <td>4.0994</td>\n",
       "      <td>301337</td>\n",
       "      <td>0.06801</td>\n",
       "      <td>33.1300</td>\n",
       "    </tr>\n",
       "    <tr>\n",
       "      <td>2</td>\n",
       "      <td>33.0200</td>\n",
       "      <td>33.3100</td>\n",
       "      <td>33.0200</td>\n",
       "      <td>33.1300</td>\n",
       "      <td>4.0979</td>\n",
       "      <td>177100</td>\n",
       "      <td>0.06801</td>\n",
       "      <td>33.0006</td>\n",
       "    </tr>\n",
       "    <tr>\n",
       "      <td>3</td>\n",
       "      <td>33.1506</td>\n",
       "      <td>33.1761</td>\n",
       "      <td>32.9759</td>\n",
       "      <td>33.0006</td>\n",
       "      <td>4.0971</td>\n",
       "      <td>179428</td>\n",
       "      <td>0.06801</td>\n",
       "      <td>32.9112</td>\n",
       "    </tr>\n",
       "    <tr>\n",
       "      <td>4</td>\n",
       "      <td>33.0012</td>\n",
       "      <td>33.1010</td>\n",
       "      <td>32.9008</td>\n",
       "      <td>32.9112</td>\n",
       "      <td>4.0974</td>\n",
       "      <td>204443</td>\n",
       "      <td>0.06801</td>\n",
       "      <td>32.8800</td>\n",
       "    </tr>\n",
       "  </tbody>\n",
       "</table>\n",
       "</div>"
      ],
      "text/plain": [
       "      open     high      low    close  dollar_close  volume  \\\n",
       "0  33.0013  33.0316  32.7213  32.8513        4.1007       0   \n",
       "1  32.8810  33.1225  32.8522  33.0411        4.0994  301337   \n",
       "2  33.0200  33.3100  33.0200  33.1300        4.0979  177100   \n",
       "3  33.1506  33.1761  32.9759  33.0006        4.0971  179428   \n",
       "4  33.0012  33.1010  32.9008  32.9112        4.0974  204443   \n",
       "\n",
       "   sentiment_polarity        y  \n",
       "0             0.06801  33.0411  \n",
       "1             0.06801  33.1300  \n",
       "2             0.06801  33.0006  \n",
       "3             0.06801  32.9112  \n",
       "4             0.06801  32.8800  "
      ]
     },
     "execution_count": 245,
     "metadata": {},
     "output_type": "execute_result"
    }
   ],
   "source": [
    "dataset = data['y']\n",
    "dataset.loc[dataset.shape[0]]= 0.0\n",
    "dataset = dataset.iloc[1:]\n",
    "data.iloc[:, -1] = dataset.values\n",
    "dataset = data[:-1]\n",
    "\n",
    "dataset_to_numpy = dataset.values\n",
    "dataset.head()"
   ]
  },
  {
   "cell_type": "code",
   "execution_count": 246,
   "metadata": {},
   "outputs": [
    {
     "name": "stdout",
     "output_type": "stream",
     "text": [
      "Dataset shape: (11796, 8)\n",
      "Train dataset shape: (9436, 8)\n",
      "Cross validation dataset shape: (1180, 8)\n",
      "Dev dataset shape: (1180, 8)\n"
     ]
    }
   ],
   "source": [
    "train_dataset, cross_validation_dataset, dev_dataset = split_dataset(dataset_to_numpy)\n",
    "\n",
    "print(\"Dataset shape: {:s}\".format(str(dataset_to_numpy.shape)))\n",
    "print(\"Train dataset shape: {:s}\".format(str(train_dataset.shape)))\n",
    "print(\"Cross validation dataset shape: {:s}\".format(str(cross_validation_dataset.shape)))\n",
    "print(\"Dev dataset shape: {:s}\".format(str(dev_dataset.shape)))"
   ]
  },
  {
   "cell_type": "code",
   "execution_count": 247,
   "metadata": {},
   "outputs": [
    {
     "data": {
      "text/plain": [
       "<matplotlib.legend.Legend at 0x1d2f73c1c88>"
      ]
     },
     "execution_count": 247,
     "metadata": {},
     "output_type": "execute_result"
    },
    {
     "data": {
      "image/png": "[encoded data removed]",
      "text/plain": [
       "<Figure size 1296x720 with 1 Axes>"
      ]
     },
     "metadata": {
      "needs_background": "light"
     },
     "output_type": "display_data"
    }
   ],
   "source": [
    "plt.figure(figsize=(18, 10))\n",
    "plot_series(np.arange(train_dataset.shape[0]), train_dataset[:, -1], \"train dataset\")\n",
    "plot_series(np.arange(train_dataset.shape[0], (cross_validation_dataset.shape[0] + train_dataset.shape[0])), cross_validation_dataset[:, -1], \"cross validation dataset\")\n",
    "plot_series(np.arange((cross_validation_dataset.shape[0] + train_dataset.shape[0]), (cross_validation_dataset.shape[0]+ train_dataset.shape[0] + dev_dataset.shape[0])), dev_dataset[:, -1], \"dev dataset\")\n",
    "plt.legend(loc='upper left')"
   ]
  },
  {
   "cell_type": "markdown",
   "metadata": {},
   "source": [
    "# Data normalization"
   ]
  },
  {
   "cell_type": "code",
   "execution_count": 252,
   "metadata": {},
   "outputs": [],
   "source": [
    "scaler = MinMaxScaler()\n",
    "scaler = scaler.fit(train_dataset[:, 0:-1])\n",
    "train_dataset_normalized = scaler.transform(train_dataset[:, 0:-1])\n",
    "cross_validation_dataset_normalized = scaler.transform(cross_validation_dataset[:, 0:-1])\n",
    "dev_dataset_normalized = scaler.transform(dev_dataset[:, 0:-1])"
   ]
  },
  {
   "cell_type": "code",
   "execution_count": 253,
   "metadata": {
    "pycharm": {
     "is_executing": false,
     "name": "#%%\n"
    }
   },
   "outputs": [],
   "source": [
    "train_set = windowed_dataset(train_dataset_normalized[:, :, np.newaxis], train_dataset[:, -1], 128, 1000)\n",
    "cross_validation_set = windowed_dataset(cross_validation_dataset_normalized[:, :, np.newaxis], cross_validation_dataset[:, -1], 128, 1000)\n",
    "dev_set = windowed_dataset(dev_dataset_normalized[:, :, np.newaxis], dev_dataset[:, -1], 128, 1000)"
   ]
  },
  {
   "cell_type": "code",
   "execution_count": 254,
   "metadata": {},
   "outputs": [
    {
     "name": "stdout",
     "output_type": "stream",
     "text": [
      "Model: \"sequential_10\"\n",
      "_________________________________________________________________\n",
      "Layer (type)                 Output Shape              Param #   \n",
      "=================================================================\n",
      "conv1d_10 (Conv1D)           (None, None, 64)          384       \n",
      "_________________________________________________________________\n",
      "lstm_20 (LSTM)               (None, None, 128)         98816     \n",
      "_________________________________________________________________\n",
      "lstm_21 (LSTM)               (None, None, 128)         131584    \n",
      "_________________________________________________________________\n",
      "dense_30 (Dense)             (None, None, 64)          8256      \n",
      "_________________________________________________________________\n",
      "dense_31 (Dense)             (None, None, 10)          650       \n",
      "_________________________________________________________________\n",
      "dense_32 (Dense)             (None, None, 1)           11        \n",
      "_________________________________________________________________\n",
      "lambda_10 (Lambda)           (None, None, 1)           0         \n",
      "=================================================================\n",
      "Total params: 239,701\n",
      "Trainable params: 239,701\n",
      "Non-trainable params: 0\n",
      "_________________________________________________________________\n"
     ]
    }
   ],
   "source": [
    "model = tf.keras.models.Sequential([\n",
    "    tf.keras.layers.Conv1D(filters=64, kernel_size=5, strides=1, padding=\"causal\", activation=\"relu\", input_shape=[None, 1]),\n",
    "    tf.keras.layers.LSTM(128, return_sequences=True),\n",
    "    tf.keras.layers.LSTM(128, return_sequences=True),\n",
    "    tf.keras.layers.Dense(64, activation=\"relu\"),\n",
    "    tf.keras.layers.Dense(10, activation=\"relu\"),\n",
    "    tf.keras.layers.Dense(1),\n",
    "    tf.keras.layers.Lambda(lambda x: x * 100)\n",
    "])\n",
    "\n",
    "model.compile(loss='mean_squared_error', optimizer=tf.keras.optimizers.RMSprop(lr=1e-8, momentum=0.9), metrics=['mae'])\n",
    "model.summary()"
   ]
  },
  {
   "cell_type": "code",
   "execution_count": 128,
   "metadata": {},
   "outputs": [
    {
     "name": "stdout",
     "output_type": "stream",
     "text": [
      "Train for 100 steps\n",
      "Epoch 1/100\n",
      "100/100 [==============================] - 4s 42ms/step - loss: 1140.3588 - mae: 33.4896\n",
      "Epoch 2/100\n",
      "100/100 [==============================] - 1s 12ms/step - loss: 1102.6181 - mae: 32.9325: 0s - loss: 1113.6235 - \n",
      "Epoch 3/100\n",
      "100/100 [==============================] - 1s 11ms/step - loss: 1049.2575 - mae: 32.1248\n",
      "Epoch 4/100\n",
      "100/100 [==============================] - 1s 10ms/step - loss: 991.9068 - mae: 31.2090\n",
      "Epoch 5/100\n",
      "100/100 [==============================] - 1s 10ms/step - loss: 923.7066 - mae: 30.0881\n",
      "Epoch 6/100\n",
      "100/100 [==============================] - 1s 10ms/step - loss: 857.1371 - mae: 28.9250\n",
      "Epoch 7/100\n",
      "100/100 [==============================] - 1s 10ms/step - loss: 789.0625 - mae: 27.6701\n",
      "Epoch 8/100\n",
      "100/100 [==============================] - 1s 10ms/step - loss: 726.1668 - mae: 26.4077\n",
      "Epoch 9/100\n",
      "100/100 [==============================] - 1s 10ms/step - loss: 643.2257 - mae: 24.6208\n",
      "Epoch 10/100\n",
      "100/100 [==============================] - 1s 10ms/step - loss: 560.6543 - mae: 22.6049\n",
      "Epoch 11/100\n",
      "100/100 [==============================] - 1s 10ms/step - loss: 468.1786 - mae: 20.0040\n",
      "Epoch 12/100\n",
      "100/100 [==============================] - 1s 10ms/step - loss: 389.1575 - mae: 17.1495\n",
      "Epoch 13/100\n",
      "100/100 [==============================] - 1s 10ms/step - loss: 322.8768 - mae: 13.9583\n",
      "Epoch 14/100\n",
      "100/100 [==============================] - 1s 10ms/step - loss: 279.5102 - mae: 10.9464\n",
      "Epoch 15/100\n",
      "100/100 [==============================] - 1s 10ms/step - loss: 253.7274 - mae: 10.2262\n",
      "Epoch 16/100\n",
      "100/100 [==============================] - 1s 10ms/step - loss: 228.4406 - mae: 9.8168\n",
      "Epoch 17/100\n",
      "100/100 [==============================] - 1s 10ms/step - loss: 206.4073 - mae: 9.1094\n",
      "Epoch 18/100\n",
      "100/100 [==============================] - 1s 10ms/step - loss: 185.2680 - mae: 8.4001\n",
      "Epoch 19/100\n",
      "100/100 [==============================] - 1s 10ms/step - loss: 166.3283 - mae: 7.6341\n",
      "Epoch 20/100\n",
      "100/100 [==============================] - 1s 10ms/step - loss: 147.4547 - mae: 6.9972\n",
      "Epoch 21/100\n",
      "100/100 [==============================] - 1s 10ms/step - loss: 130.5953 - mae: 6.7947\n",
      "Epoch 22/100\n",
      "100/100 [==============================] - 1s 10ms/step - loss: 114.9296 - mae: 6.4849\n",
      "Epoch 23/100\n",
      "100/100 [==============================] - 1s 10ms/step - loss: 100.8718 - mae: 6.0198\n",
      "Epoch 24/100\n",
      "100/100 [==============================] - 1s 10ms/step - loss: 88.2915 - mae: 5.4743\n",
      "Epoch 25/100\n",
      "100/100 [==============================] - 1s 10ms/step - loss: 75.0437 - mae: 4.8338\n",
      "Epoch 26/100\n",
      "100/100 [==============================] - 1s 10ms/step - loss: 62.6736 - mae: 4.2058\n",
      "Epoch 27/100\n",
      "100/100 [==============================] - 1s 10ms/step - loss: 51.9921 - mae: 3.6877\n",
      "Epoch 28/100\n",
      "100/100 [==============================] - 1s 10ms/step - loss: 40.9630 - mae: 3.2910\n",
      "Epoch 29/100\n",
      "100/100 [==============================] - 1s 10ms/step - loss: 31.0467 - mae: 2.9972\n",
      "Epoch 30/100\n",
      "100/100 [==============================] - 1s 10ms/step - loss: 23.2084 - mae: 2.7470\n",
      "Epoch 31/100\n",
      "100/100 [==============================] - 1s 10ms/step - loss: 17.1805 - mae: 2.6492\n",
      "Epoch 32/100\n",
      "100/100 [==============================] - 1s 10ms/step - loss: 12.2989 - mae: 2.4251\n",
      "Epoch 33/100\n",
      "100/100 [==============================] - 1s 10ms/step - loss: 7.5277 - mae: 1.9442\n",
      "Epoch 34/100\n",
      "100/100 [==============================] - 1s 10ms/step - loss: 4.0674 - mae: 1.5007\n",
      "Epoch 35/100\n",
      "100/100 [==============================] - 1s 10ms/step - loss: 2.2961 - mae: 1.2236\n",
      "Epoch 36/100\n",
      "100/100 [==============================] - 1s 10ms/step - loss: 1.1158 - mae: 0.8149\n",
      "Epoch 37/100\n",
      "100/100 [==============================] - 1s 10ms/step - loss: 0.8281 - mae: 0.6338\n",
      "Epoch 38/100\n",
      "100/100 [==============================] - 1s 10ms/step - loss: 0.6260 - mae: 0.5888\n",
      "Epoch 39/100\n",
      "100/100 [==============================] - 1s 10ms/step - loss: 0.6424 - mae: 0.6008\n",
      "Epoch 40/100\n",
      "100/100 [==============================] - 1s 10ms/step - loss: 0.8019 - mae: 0.6173\n",
      "Epoch 41/100\n",
      "100/100 [==============================] - 1s 10ms/step - loss: 0.1898 - mae: 0.3498\n",
      "Epoch 42/100\n",
      "100/100 [==============================] - 1s 10ms/step - loss: 0.2192 - mae: 0.3313\n",
      "Epoch 43/100\n",
      "100/100 [==============================] - 1s 10ms/step - loss: 0.1343 - mae: 0.2496\n",
      "Epoch 44/100\n",
      "100/100 [==============================] - 1s 10ms/step - loss: 0.0605 - mae: 0.1922\n",
      "Epoch 45/100\n",
      "100/100 [==============================] - 1s 10ms/step - loss: 0.0579 - mae: 0.1839\n",
      "Epoch 46/100\n",
      "100/100 [==============================] - 1s 11ms/step - loss: 0.0840 - mae: 0.2006\n",
      "Epoch 47/100\n",
      "100/100 [==============================] - 1s 10ms/step - loss: 0.0970 - mae: 0.2276\n",
      "Epoch 48/100\n",
      "100/100 [==============================] - 1s 10ms/step - loss: 0.0703 - mae: 0.2043\n",
      "Epoch 49/100\n",
      "100/100 [==============================] - 1s 10ms/step - loss: 0.0801 - mae: 0.2108\n",
      "Epoch 50/100\n",
      "100/100 [==============================] - 1s 10ms/step - loss: 0.0749 - mae: 0.1999\n",
      "Epoch 51/100\n",
      "100/100 [==============================] - 1s 10ms/step - loss: 0.0936 - mae: 0.2195\n",
      "Epoch 52/100\n",
      "100/100 [==============================] - 1s 10ms/step - loss: 0.0925 - mae: 0.2198\n",
      "Epoch 53/100\n",
      "100/100 [==============================] - 1s 10ms/step - loss: 0.0749 - mae: 0.1975\n",
      "Epoch 54/100\n",
      "100/100 [==============================] - 1s 10ms/step - loss: 0.2004 - mae: 0.2969\n",
      "Epoch 55/100\n",
      "100/100 [==============================] - 1s 10ms/step - loss: 0.1046 - mae: 0.2116\n",
      "Epoch 56/100\n",
      "100/100 [==============================] - 1s 10ms/step - loss: 0.3342 - mae: 0.3514\n",
      "Epoch 57/100\n",
      "100/100 [==============================] - 1s 10ms/step - loss: 0.1157 - mae: 0.2604\n",
      "Epoch 58/100\n",
      "100/100 [==============================] - 1s 10ms/step - loss: 0.1475 - mae: 0.2607\n",
      "Epoch 59/100\n",
      "100/100 [==============================] - 1s 10ms/step - loss: 0.1922 - mae: 0.3030\n",
      "Epoch 60/100\n",
      "100/100 [==============================] - 1s 10ms/step - loss: 0.1170 - mae: 0.2472\n",
      "Epoch 61/100\n",
      "100/100 [==============================] - 1s 10ms/step - loss: 0.1789 - mae: 0.3206\n",
      "Epoch 62/100\n",
      "100/100 [==============================] - 1s 10ms/step - loss: 0.3597 - mae: 0.4417\n",
      "Epoch 63/100\n",
      "100/100 [==============================] - 1s 10ms/step - loss: 0.3350 - mae: 0.4524\n",
      "Epoch 64/100\n",
      "100/100 [==============================] - 1s 10ms/step - loss: 0.2434 - mae: 0.3534\n",
      "Epoch 65/100\n",
      "100/100 [==============================] - 1s 10ms/step - loss: 0.2418 - mae: 0.3734\n",
      "Epoch 66/100\n",
      "100/100 [==============================] - 1s 10ms/step - loss: 0.2175 - mae: 0.3626\n",
      "Epoch 67/100\n",
      "100/100 [==============================] - 1s 10ms/step - loss: 0.4665 - mae: 0.4877\n",
      "Epoch 68/100\n",
      "100/100 [==============================] - 1s 10ms/step - loss: 0.2875 - mae: 0.3998\n",
      "Epoch 69/100\n",
      "100/100 [==============================] - 1s 10ms/step - loss: 0.4651 - mae: 0.4830\n",
      "Epoch 70/100\n",
      "100/100 [==============================] - 1s 10ms/step - loss: 0.6684 - mae: 0.6305\n",
      "Epoch 71/100\n",
      "100/100 [==============================] - 1s 10ms/step - loss: 0.3202 - mae: 0.4399\n",
      "Epoch 72/100\n",
      "100/100 [==============================] - 1s 10ms/step - loss: 1.3686 - mae: 0.8164\n",
      "Epoch 73/100\n",
      "100/100 [==============================] - 1s 10ms/step - loss: 0.5810 - mae: 0.6124\n",
      "Epoch 74/100\n",
      "100/100 [==============================] - 1s 10ms/step - loss: 0.7632 - mae: 0.6423\n",
      "Epoch 75/100\n",
      "100/100 [==============================] - 1s 10ms/step - loss: 0.5142 - mae: 0.5345\n",
      "Epoch 76/100\n",
      "100/100 [==============================] - 1s 10ms/step - loss: 0.4436 - mae: 0.5282\n",
      "Epoch 77/100\n",
      "100/100 [==============================] - 1s 10ms/step - loss: 0.6760 - mae: 0.6506\n",
      "Epoch 78/100\n",
      "100/100 [==============================] - 1s 10ms/step - loss: 0.6048 - mae: 0.5824\n",
      "Epoch 79/100\n",
      "100/100 [==============================] - 1s 10ms/step - loss: 0.6032 - mae: 0.5812\n",
      "Epoch 80/100\n",
      "100/100 [==============================] - 1s 10ms/step - loss: 0.2991 - mae: 0.4583\n",
      "Epoch 81/100\n",
      "100/100 [==============================] - 1s 11ms/step - loss: 0.3809 - mae: 0.5043\n",
      "Epoch 82/100\n",
      "100/100 [==============================] - 1s 10ms/step - loss: 0.4941 - mae: 0.5706\n",
      "Epoch 83/100\n"
     ]
    },
    {
     "name": "stdout",
     "output_type": "stream",
     "text": [
      "100/100 [==============================] - 1s 10ms/step - loss: 0.6570 - mae: 0.6639\n",
      "Epoch 84/100\n",
      "100/100 [==============================] - 1s 10ms/step - loss: 0.3779 - mae: 0.4949\n",
      "Epoch 85/100\n",
      "100/100 [==============================] - 1s 10ms/step - loss: 0.4794 - mae: 0.5564\n",
      "Epoch 86/100\n",
      "100/100 [==============================] - 1s 11ms/step - loss: 0.6861 - mae: 0.6808\n",
      "Epoch 87/100\n",
      "100/100 [==============================] - 1s 10ms/step - loss: 0.8143 - mae: 0.7101\n",
      "Epoch 88/100\n",
      "100/100 [==============================] - 1s 10ms/step - loss: 0.7151 - mae: 0.6900\n",
      "Epoch 89/100\n",
      "100/100 [==============================] - 1s 10ms/step - loss: 0.5092 - mae: 0.5964\n",
      "Epoch 90/100\n",
      "100/100 [==============================] - 1s 10ms/step - loss: 0.8657 - mae: 0.7595\n",
      "Epoch 91/100\n",
      "100/100 [==============================] - 1s 10ms/step - loss: 0.7834 - mae: 0.7027\n",
      "Epoch 92/100\n",
      "100/100 [==============================] - 1s 10ms/step - loss: 0.9722 - mae: 0.8099\n",
      "Epoch 93/100\n",
      "100/100 [==============================] - 1s 10ms/step - loss: 0.9100 - mae: 0.7513\n",
      "Epoch 94/100\n",
      "100/100 [==============================] - 1s 10ms/step - loss: 1.5289 - mae: 0.9445\n",
      "Epoch 95/100\n",
      "100/100 [==============================] - 1s 10ms/step - loss: 1.3570 - mae: 0.9116\n",
      "Epoch 96/100\n",
      "100/100 [==============================] - 1s 10ms/step - loss: 1.0899 - mae: 0.8184\n",
      "Epoch 97/100\n",
      "100/100 [==============================] - 1s 10ms/step - loss: 1.0353 - mae: 0.8098\n",
      "Epoch 98/100\n",
      "100/100 [==============================] - 1s 10ms/step - loss: 0.7034 - mae: 0.6359\n",
      "Epoch 99/100\n",
      "100/100 [==============================] - 1s 10ms/step - loss: 0.6871 - mae: 0.6625\n",
      "Epoch 100/100\n",
      "100/100 [==============================] - 1s 10ms/step - loss: 0.8387 - mae: 0.6930\n"
     ]
    }
   ],
   "source": [
    "lr_schedule = tf.keras.callbacks.LearningRateScheduler(lambda epoch: 1e-8 * 10**(epoch / 20))\n",
    "history = model.fit(train_set, epochs=100, steps_per_epoch=100, callbacks=[lr_schedule])"
   ]
  },
  {
   "cell_type": "code",
   "execution_count": null,
   "metadata": {},
   "outputs": [],
   "source": []
  },
  {
   "cell_type": "code",
   "execution_count": null,
   "metadata": {},
   "outputs": [],
   "source": []
  }
 ],
 "metadata": {
  "kernelspec": {
   "display_name": "Python 3",
   "language": "python",
   "name": "python3"
  },
  "language_info": {
   "codemirror_mode": {
    "name": "ipython",
    "version": 3
   },
   "file_extension": ".py",
   "mimetype": "text/x-python",
   "name": "python",
   "nbconvert_exporter": "python",
   "pygments_lexer": "ipython3",
   "version": "3.7.4"
  },
  "pycharm": {
   "stem_cell": {
    "cell_type": "raw",
    "metadata": {
     "collapsed": false
    },
    "source": []
   }
  }
 },
 "nbformat": 4,
 "nbformat_minor": 1
}
