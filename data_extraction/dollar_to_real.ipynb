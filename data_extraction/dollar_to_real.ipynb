{
 "cells": [
  {
   "cell_type": "code",
   "execution_count": 1,
   "metadata": {
    "collapsed": true,
    "pycharm": {
     "is_executing": false
    }
   },
   "outputs": [],
   "source": [
    "import requests\n",
    "\n",
    "API_URL = 'https://www.alphavantage.co/query?function=FX_INTRADAY&from_symbol=USD&to_symbol=BRL&interval=1min&outputsize=full&apikey=RN9FDKDFLL772Z7K'"
   ]
  },
  {
   "cell_type": "code",
   "execution_count": 2,
   "metadata": {
    "pycharm": {
     "is_executing": false,
     "name": "#%%\n"
    }
   },
   "outputs": [],
   "source": [
    "response = requests.get(API_URL)"
   ]
  },
  {
   "cell_type": "code",
   "execution_count": 3,
   "metadata": {
    "pycharm": {
     "is_executing": false,
     "name": "#%%\n"
    }
   },
   "outputs": [],
   "source": [
    "if response.ok:\n",
    "    data = response.json()"
   ]
  },
  {
   "cell_type": "code",
   "execution_count": 4,
   "outputs": [],
   "source": [
    "sql_head = \"INSERT INTO dollar_price(date, open, high, low, close)\\n\" \\\n",
    "            \"VALUES\\n\"\n",
    "dictlist = data['Time Series FX (1min)'].items()\n",
    "sql_query = \"\"\n",
    "for dic in dictlist:\n",
    "    date, dollar_prices = dic\n",
    "    dollar_values = list(dollar_prices.values())\n",
    "    if not sql_query:\n",
    "        sql_query = \"    ('{:s}', {:s}, {:s}, {:s}, {:s});\\n\".format(date, dollar_values[0], dollar_values[1], dollar_values[2], dollar_values[3]) + sql_query\n",
    "    else:\n",
    "        sql_query = \"    ('{:s}', {:s}, {:s}, {:s}, {:s}),\\n\".format(date, dollar_values[0], dollar_values[1], dollar_values[2], dollar_values[3]) + sql_query\n",
    "sql_query = sql_head + sql_query\n",
    "\n",
    "file = open('sql_dollar_query.sql', 'w')\n",
    "file.write(sql_query)\n",
    "file.close()\n"
   ],
   "metadata": {
    "collapsed": false,
    "pycharm": {
     "name": "#%%\n",
     "is_executing": false
    }
   }
  }
 ],
 "metadata": {
  "kernelspec": {
   "display_name": "Python 3",
   "language": "python",
   "name": "python3"
  },
  "language_info": {
   "codemirror_mode": {
    "name": "ipython",
    "version": 3
   },
   "file_extension": ".py",
   "mimetype": "text/x-python",
   "name": "python",
   "nbconvert_exporter": "python",
   "pygments_lexer": "ipython3",
   "version": "3.7.4"
  },
  "pycharm": {
   "stem_cell": {
    "cell_type": "raw",
    "source": [],
    "metadata": {
     "collapsed": false
    }
   }
  }
 },
 "nbformat": 4,
 "nbformat_minor": 1
}