{
 "cells": [
  {
   "cell_type": "code",
   "execution_count": 34,
   "metadata": {
    "collapsed": true,
    "pycharm": {
     "is_executing": false
    }
   },
   "outputs": [],
   "source": [
    "import pandas as pd\n",
    "import numpy as np\n",
    "from datetime import timedelta, date"
   ]
  },
  {
   "cell_type": "code",
   "execution_count": 35,
   "outputs": [],
   "source": [
    "data_inter = pd.read_csv('inter_stocks_clean.csv', sep=',')\n",
    "data_dollar = pd.read_csv('dollar_prices_clean.csv', sep=',')\n",
    "tweets = pd.read_csv('inter_tweets_clean.csv', sep=',')"
   ],
   "metadata": {
    "collapsed": false,
    "pycharm": {
     "name": "#%%\n",
     "is_executing": false
    }
   }
  },
  {
   "cell_type": "code",
   "execution_count": 36,
   "outputs": [],
   "source": [
    "merged_data = data_inter\n",
    "merged_data.drop(merged_data.columns[[0]], axis=1, inplace=True)"
   ],
   "metadata": {
    "collapsed": false,
    "pycharm": {
     "name": "#%%\n",
     "is_executing": false
    }
   }
  },
  {
   "cell_type": "code",
   "execution_count": 37,
   "outputs": [],
   "source": [
    "merged_data['dollar_open'] = np.nan\n",
    "merged_data['dollar_high'] = np.nan\n",
    "merged_data['dollar_low'] = np.nan\n",
    "merged_data['dollar_close'] = np.nan\n",
    "merged_data.sort_values('date', inplace=True)\n",
    "\n",
    "for i in merged_data.index:\n",
    "    current_date = merged_data.at[i, 'date']\n",
    "    current_day, current_time = current_date.split(' ')\n",
    "    hour, min_sec = current_time.split(':', 1)\n",
    "\n",
    "    if current_day == \"2019-09-23\":\n",
    "        dollar_minuto_inform = data_dollar.loc[data_dollar['date'] == \"2019-09-20 21:00:00\"]\n",
    "    else:\n",
    "        dollar_minuto_inform = data_dollar.loc[data_dollar['date'] == current_day + ' ' + str(int(hour) + 4) + ':' + min_sec]\n",
    "\n",
    "    merged_data.at[i, 'dollar_open'] = dollar_minuto_inform.iloc[0]['open']\n",
    "    merged_data.at[i, 'dollar_high'] = dollar_minuto_inform.iloc[0]['high']\n",
    "    merged_data.at[i, 'dollar_low'] = dollar_minuto_inform.iloc[0]['low']\n",
    "    merged_data.at[i, 'dollar_close'] = dollar_minuto_inform.iloc[0]['close']"
   ],
   "metadata": {
    "collapsed": false,
    "pycharm": {
     "name": "#%%\n",
     "is_executing": false
    }
   }
  },
  {
   "cell_type": "code",
   "execution_count": 38,
   "outputs": [
    {
     "data": {
      "text/plain": "   id                 date     open     high      low    close  volume  \\\n0   1  2019-09-10 09:01:00  18.3500  18.5500  18.3500  18.5300       0   \n1   2  2019-09-10 09:02:00  18.5307  18.5874  18.4373  18.4607   15063   \n2   3  2019-09-10 09:03:00  18.4500  18.4500  18.3400  18.3500   13800   \n3   4  2019-09-10 09:04:00  18.3303  18.3759  18.2758  18.3203   47357   \n4   5  2019-09-10 09:05:00  18.3506  18.3979  18.3378  18.3606   28101   \n\n   dollar_open  dollar_high  dollar_low  dollar_close  sentiment_polarity  \\\n0       4.1002       4.1009      4.0957        4.0979                 0.0   \n1       4.0957       4.0990      4.0957        4.0990                 0.0   \n2       4.0993       4.0997      4.0962        4.0997                 0.0   \n3       4.0982       4.1009      4.0962        4.0977                 0.0   \n4       4.0975       4.1011      4.0975        4.1002                 0.0   \n\n   sentiment_subjectivity  \n0                     0.0  \n1                     0.0  \n2                     0.0  \n3                     0.0  \n4                     0.0  ",
      "text/html": "<div>\n<style scoped>\n    .dataframe tbody tr th:only-of-type {\n        vertical-align: middle;\n    }\n\n    .dataframe tbody tr th {\n        vertical-align: top;\n    }\n\n    .dataframe thead th {\n        text-align: right;\n    }\n</style>\n<table border=\"1\" class=\"dataframe\">\n  <thead>\n    <tr style=\"text-align: right;\">\n      <th></th>\n      <th>id</th>\n      <th>date</th>\n      <th>open</th>\n      <th>high</th>\n      <th>low</th>\n      <th>close</th>\n      <th>volume</th>\n      <th>dollar_open</th>\n      <th>dollar_high</th>\n      <th>dollar_low</th>\n      <th>dollar_close</th>\n      <th>sentiment_polarity</th>\n      <th>sentiment_subjectivity</th>\n    </tr>\n  </thead>\n  <tbody>\n    <tr>\n      <td>0</td>\n      <td>1</td>\n      <td>2019-09-10 09:01:00</td>\n      <td>18.3500</td>\n      <td>18.5500</td>\n      <td>18.3500</td>\n      <td>18.5300</td>\n      <td>0</td>\n      <td>4.1002</td>\n      <td>4.1009</td>\n      <td>4.0957</td>\n      <td>4.0979</td>\n      <td>0.0</td>\n      <td>0.0</td>\n    </tr>\n    <tr>\n      <td>1</td>\n      <td>2</td>\n      <td>2019-09-10 09:02:00</td>\n      <td>18.5307</td>\n      <td>18.5874</td>\n      <td>18.4373</td>\n      <td>18.4607</td>\n      <td>15063</td>\n      <td>4.0957</td>\n      <td>4.0990</td>\n      <td>4.0957</td>\n      <td>4.0990</td>\n      <td>0.0</td>\n      <td>0.0</td>\n    </tr>\n    <tr>\n      <td>2</td>\n      <td>3</td>\n      <td>2019-09-10 09:03:00</td>\n      <td>18.4500</td>\n      <td>18.4500</td>\n      <td>18.3400</td>\n      <td>18.3500</td>\n      <td>13800</td>\n      <td>4.0993</td>\n      <td>4.0997</td>\n      <td>4.0962</td>\n      <td>4.0997</td>\n      <td>0.0</td>\n      <td>0.0</td>\n    </tr>\n    <tr>\n      <td>3</td>\n      <td>4</td>\n      <td>2019-09-10 09:04:00</td>\n      <td>18.3303</td>\n      <td>18.3759</td>\n      <td>18.2758</td>\n      <td>18.3203</td>\n      <td>47357</td>\n      <td>4.0982</td>\n      <td>4.1009</td>\n      <td>4.0962</td>\n      <td>4.0977</td>\n      <td>0.0</td>\n      <td>0.0</td>\n    </tr>\n    <tr>\n      <td>4</td>\n      <td>5</td>\n      <td>2019-09-10 09:05:00</td>\n      <td>18.3506</td>\n      <td>18.3979</td>\n      <td>18.3378</td>\n      <td>18.3606</td>\n      <td>28101</td>\n      <td>4.0975</td>\n      <td>4.1011</td>\n      <td>4.0975</td>\n      <td>4.1002</td>\n      <td>0.0</td>\n      <td>0.0</td>\n    </tr>\n  </tbody>\n</table>\n</div>"
     },
     "metadata": {},
     "output_type": "execute_result",
     "execution_count": 38
    }
   ],
   "source": [
    "merged_data['sentiment_polarity'] = 0.0\n",
    "merged_data['sentiment_subjectivity'] = 0.0\n",
    "merged_data.head()"
   ],
   "metadata": {
    "collapsed": false,
    "pycharm": {
     "name": "#%%\n",
     "is_executing": false
    }
   }
  },
  {
   "cell_type": "code",
   "execution_count": 39,
   "outputs": [],
   "source": [
    "def daterange(date1, date2):\n",
    "    for n in range(int ((date2 - date1).days)+1):\n",
    "        yield date1 + timedelta(n)\n",
    "\n",
    "start_dt = date(2019,9,9)\n",
    "end_dt = date(2019,10,17)\n",
    "\n",
    "weekdays = [6,7]\n",
    "valid_dates = []\n",
    "for dt in daterange(start_dt, end_dt):\n",
    "    if dt.isoweekday() not in weekdays:\n",
    "        valid_dates.append(dt.strftime(\"%Y-%m-%d\"))\n",
    "\n",
    "for i in range(1, len(valid_dates)):\n",
    "    tweets_of_day = tweets.loc[(tweets['date'] > \"{:s} 23:59:59\".format(valid_dates[i - 1])) &\n",
    "                               (tweets['date'] <= \"{:s} 23:59:59\".format(valid_dates[i]))]\n",
    "    \n",
    "    merged_data.loc[(merged_data['date'] >= \"{:s} 23:59:59\".format(valid_dates[i - 1])) & (merged_data['date'] <= \"{:s} 23:59:59\".format(valid_dates[i])), 'sentiment_polarity'] = tweets_of_day['sentiment_polarity'].mean()\n",
    "    merged_data.loc[(merged_data['date'] >= \"{:s} 23:59:59\".format(valid_dates[i - 1])) & (merged_data['date'] <= \"{:s} 23:59:59\".format(valid_dates[i])), 'sentiment_subjectivity'] = tweets_of_day['sentiment_subjectivity'].mean()"
   ],
   "metadata": {
    "collapsed": false,
    "pycharm": {
     "name": "#%%\n",
     "is_executing": false
    }
   }
  },
  {
   "cell_type": "code",
   "execution_count": 40,
   "outputs": [],
   "source": [
    "merged_data.to_csv('merged_data.csv', sep=',', encoding='utf-8')\n"
   ],
   "metadata": {
    "collapsed": false,
    "pycharm": {
     "name": "#%%\n",
     "is_executing": false
    }
   }
  }
 ],
 "metadata": {
  "kernelspec": {
   "display_name": "Python 3",
   "language": "python",
   "name": "python3"
  },
  "language_info": {
   "codemirror_mode": {
    "name": "ipython",
    "version": 2
   },
   "file_extension": ".py",
   "mimetype": "text/x-python",
   "name": "python",
   "nbconvert_exporter": "python",
   "pygments_lexer": "ipython2",
   "version": "2.7.6"
  },
  "pycharm": {
   "stem_cell": {
    "cell_type": "raw",
    "source": [],
    "metadata": {
     "collapsed": false
    }
   }
  }
 },
 "nbformat": 4,
 "nbformat_minor": 0
}