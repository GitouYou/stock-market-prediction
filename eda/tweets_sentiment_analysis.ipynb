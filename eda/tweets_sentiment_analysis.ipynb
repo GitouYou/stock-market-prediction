{
 "cells": [
  {
   "cell_type": "code",
   "execution_count": 33,
   "metadata": {
    "collapsed": true,
    "pycharm": {
     "is_executing": false
    }
   },
   "outputs": [],
   "source": [
    "import re\n",
    "import pandas as pd\n",
    "from textblob import TextBlob"
   ]
  },
  {
   "cell_type": "code",
   "execution_count": 34,
   "outputs": [],
   "source": [
    "inter_tweets = pd.read_csv('inter_tweets.csv', sep=',', names=['id', 'text'])\n",
    "inter_tweets.head()\n",
    "inter_tweets.drop_duplicates(subset='text', inplace=True)"
   ],
   "metadata": {
    "collapsed": false,
    "pycharm": {
     "name": "#%%\n",
     "is_executing": false
    }
   }
  },
  {
   "cell_type": "code",
   "execution_count": 39,
   "outputs": [],
   "source": [
    "inter_tweets_clean = pd.DataFrame(columns=('id', 'date', 'text', 'text_en', 'sentiment_polarity', 'sentiment_subjectivity'))\n",
    "\n",
    "for i in inter_tweets.index:\n",
    "    full_text = inter_tweets.at[i, 'text']\n",
    "    date, tweet = full_text.split(\"Text=\")\n",
    "    date_splitted = date.split(' ')\n",
    "    \n",
    "    if date_splitted[1] == \"Sep\":\n",
    "        new_date_format = \"2019-09-{:s} {:s}\".format(date_splitted[2], date_splitted[3])\n",
    "    elif date_splitted[1] == \"Oct\":\n",
    "        new_date_format = \"2019-10-{:s} {:s}\".format(date_splitted[2], date_splitted[3])\n",
    "    else:\n",
    "        new_date_format = \"2019-11-{:s} {:s}\".format(date_splitted[2], date_splitted[3])\n",
    "    \n",
    "    tweet = ''.join(tweet.split('\\\\n'))\n",
    "    clean_tweet = ' '.join(re.sub(\"(@[A-Za-z0-9-ZÀ-ÿ]+)|([^0-9A-Za-z-ZÀ-ÿ \\t])|(\\w+://\\S+)\", \" \", tweet).split())\n",
    "    \n",
    "    phrase = TextBlob(clean_tweet)\n",
    "    translate = phrase\n",
    "    # translate = TextBlob(str(phrase.translate(to='en_US')))\n",
    "    \n",
    "    single_row = {\n",
    "                 'id': inter_tweets.at[i, 'id'],\n",
    "                 'date': new_date_format,\n",
    "                 'text': str(phrase),\n",
    "                 'text_en': str(translate),\n",
    "                 'sentiment_polarity': translate.sentiment.polarity,\n",
    "                 'sentiment_subjectivity': translate.sentiment.subjectivity\n",
    "                  }\n",
    "    inter_tweets_clean = inter_tweets_clean.append(single_row, ignore_index=True)"
   ],
   "metadata": {
    "collapsed": false,
    "pycharm": {
     "name": "#%%\n",
     "is_executing": false
    }
   }
  },
  {
   "cell_type": "code",
   "execution_count": 40,
   "outputs": [],
   "source": [
    "inter_tweets_clean.to_csv('inter_tweets_clean.csv', sep=',', encoding='utf-8')"
   ],
   "metadata": {
    "collapsed": false,
    "pycharm": {
     "name": "#%%\n",
     "is_executing": false
    }
   }
  },
  {
   "cell_type": "code",
   "execution_count": 41,
   "outputs": [
    {
     "data": {
      "text/plain": "  id                 date                                               text  \\\n0  1  2019-09-10 00:20:52  O Banco Inter deveria lançar uma maquinina de ...   \n1  2  2019-09-10 00:44:44                Uso a do Banco Inter Acho tranquilo   \n2  3  2019-09-10 00:45:08  Banco Inter Foi a melhor opção pra mim conta s...   \n3  4  2019-09-10 00:50:26  assim como já comentado por outros a do banco ...   \n4  5  2019-09-10 00:51:04  Estou usando Banco Inter há pouco tempo Foi rá...   \n\n                                             text_en  sentiment_polarity  \\\n0  O Banco Inter deveria lançar uma maquinina de ...            0.000000   \n1                Uso a do Banco Inter Acho tranquilo            0.000000   \n2  Banco Inter Foi a melhor opção pra mim conta s...            0.000000   \n3  assim como já comentado por outros a do banco ...            0.333333   \n4  Estou usando Banco Inter há pouco tempo Foi rá...            0.000000   \n\n   sentiment_subjectivity  \n0                0.000000  \n1                0.000000  \n2                0.000000  \n3                0.666667  \n4                0.000000  ",
      "text/html": "<div>\n<style scoped>\n    .dataframe tbody tr th:only-of-type {\n        vertical-align: middle;\n    }\n\n    .dataframe tbody tr th {\n        vertical-align: top;\n    }\n\n    .dataframe thead th {\n        text-align: right;\n    }\n</style>\n<table border=\"1\" class=\"dataframe\">\n  <thead>\n    <tr style=\"text-align: right;\">\n      <th></th>\n      <th>id</th>\n      <th>date</th>\n      <th>text</th>\n      <th>text_en</th>\n      <th>sentiment_polarity</th>\n      <th>sentiment_subjectivity</th>\n    </tr>\n  </thead>\n  <tbody>\n    <tr>\n      <td>0</td>\n      <td>1</td>\n      <td>2019-09-10 00:20:52</td>\n      <td>O Banco Inter deveria lançar uma maquinina de ...</td>\n      <td>O Banco Inter deveria lançar uma maquinina de ...</td>\n      <td>0.000000</td>\n      <td>0.000000</td>\n    </tr>\n    <tr>\n      <td>1</td>\n      <td>2</td>\n      <td>2019-09-10 00:44:44</td>\n      <td>Uso a do Banco Inter Acho tranquilo</td>\n      <td>Uso a do Banco Inter Acho tranquilo</td>\n      <td>0.000000</td>\n      <td>0.000000</td>\n    </tr>\n    <tr>\n      <td>2</td>\n      <td>3</td>\n      <td>2019-09-10 00:45:08</td>\n      <td>Banco Inter Foi a melhor opção pra mim conta s...</td>\n      <td>Banco Inter Foi a melhor opção pra mim conta s...</td>\n      <td>0.000000</td>\n      <td>0.000000</td>\n    </tr>\n    <tr>\n      <td>3</td>\n      <td>4</td>\n      <td>2019-09-10 00:50:26</td>\n      <td>assim como já comentado por outros a do banco ...</td>\n      <td>assim como já comentado por outros a do banco ...</td>\n      <td>0.333333</td>\n      <td>0.666667</td>\n    </tr>\n    <tr>\n      <td>4</td>\n      <td>5</td>\n      <td>2019-09-10 00:51:04</td>\n      <td>Estou usando Banco Inter há pouco tempo Foi rá...</td>\n      <td>Estou usando Banco Inter há pouco tempo Foi rá...</td>\n      <td>0.000000</td>\n      <td>0.000000</td>\n    </tr>\n  </tbody>\n</table>\n</div>"
     },
     "metadata": {},
     "output_type": "execute_result",
     "execution_count": 41
    }
   ],
   "source": [
    "inter_tweets_clean.head()\n"
   ],
   "metadata": {
    "collapsed": false,
    "pycharm": {
     "name": "#%%\n",
     "is_executing": false
    }
   }
  }
 ],
 "metadata": {
  "kernelspec": {
   "display_name": "Python 3",
   "language": "python",
   "name": "python3"
  },
  "language_info": {
   "codemirror_mode": {
    "name": "ipython",
    "version": 2
   },
   "file_extension": ".py",
   "mimetype": "text/x-python",
   "name": "python",
   "nbconvert_exporter": "python",
   "pygments_lexer": "ipython2",
   "version": "2.7.6"
  },
  "pycharm": {
   "stem_cell": {
    "cell_type": "raw",
    "source": [],
    "metadata": {
     "collapsed": false
    }
   }
  }
 },
 "nbformat": 4,
 "nbformat_minor": 0
}